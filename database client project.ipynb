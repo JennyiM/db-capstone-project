{
 "cells": [
  {
   "cell_type": "code",
   "execution_count": 1,
   "metadata": {},
   "outputs": [
    {
     "name": "stdout",
     "output_type": "stream",
     "text": [
      "Collecting mysql-connector-python\n",
      "  Obtaining dependency information for mysql-connector-python from https://files.pythonhosted.org/packages/96/db/50f7397d0c8b013b87ad402f60892335dab6680a373c6aa583fa20c7b7a8/mysql_connector_python-8.2.0-cp312-cp312-win_amd64.whl.metadata\n",
      "  Downloading mysql_connector_python-8.2.0-cp312-cp312-win_amd64.whl.metadata (2.1 kB)\n",
      "Collecting protobuf<=4.21.12,>=4.21.1 (from mysql-connector-python)\n",
      "  Using cached protobuf-4.21.12-cp310-abi3-win_amd64.whl (527 kB)\n",
      "Downloading mysql_connector_python-8.2.0-cp312-cp312-win_amd64.whl (14.2 MB)\n",
      "   ---------------------------------------- 0.0/14.2 MB ? eta -:--:--\n",
      "   ---------------------------------------- 0.1/14.2 MB 1.7 MB/s eta 0:00:09\n",
      "   -- ------------------------------------- 0.9/14.2 MB 11.0 MB/s eta 0:00:02\n",
      "   ---- ----------------------------------- 1.6/14.2 MB 12.8 MB/s eta 0:00:01\n",
      "   ------- -------------------------------- 2.5/14.2 MB 14.4 MB/s eta 0:00:01\n",
      "   --------- ------------------------------ 3.4/14.2 MB 15.6 MB/s eta 0:00:01\n",
      "   ------------ --------------------------- 4.4/14.2 MB 16.6 MB/s eta 0:00:01\n",
      "   --------------- ------------------------ 5.4/14.2 MB 17.2 MB/s eta 0:00:01\n",
      "   ----------------- ---------------------- 6.2/14.2 MB 17.3 MB/s eta 0:00:01\n",
      "   --------------------- ------------------ 7.7/14.2 MB 18.9 MB/s eta 0:00:01\n",
      "   ------------------------- -------------- 8.9/14.2 MB 19.7 MB/s eta 0:00:01\n",
      "   ---------------------------- ----------- 10.2/14.2 MB 20.4 MB/s eta 0:00:01\n",
      "   ------------------------------- -------- 11.3/14.2 MB 21.8 MB/s eta 0:00:01\n",
      "   ----------------------------------- ---- 12.6/14.2 MB 24.2 MB/s eta 0:00:01\n",
      "   ------------------------------------- -- 13.4/14.2 MB 22.5 MB/s eta 0:00:01\n",
      "   ---------------------------------------  14.2/14.2 MB 22.6 MB/s eta 0:00:01\n",
      "   ---------------------------------------- 14.2/14.2 MB 21.8 MB/s eta 0:00:00\n",
      "Installing collected packages: protobuf, mysql-connector-python\n",
      "Successfully installed mysql-connector-python-8.2.0 protobuf-4.21.12\n",
      "Note: you may need to restart the kernel to use updated packages.\n"
     ]
    },
    {
     "name": "stderr",
     "output_type": "stream",
     "text": [
      "\n",
      "[notice] A new release of pip is available: 23.2.1 -> 23.3.1\n",
      "[notice] To update, run: python.exe -m pip install --upgrade pip\n"
     ]
    }
   ],
   "source": [
    "pip install mysql-connector-python"
   ]
  },
  {
   "cell_type": "code",
   "execution_count": 2,
   "metadata": {},
   "outputs": [],
   "source": [
    "#Connect to the database using a Python client.\n",
    "\n",
    "import mysql.connector as connector\n",
    "connection = connector.connect(user = \"root\", password = \"1234\",db = \"littlelemondb\")"
   ]
  },
  {
   "cell_type": "code",
   "execution_count": 3,
   "metadata": {},
   "outputs": [
    {
     "name": "stdout",
     "output_type": "stream",
     "text": [
      "[('bookings',), ('customers',), ('menuitems',), ('menus',), ('order delivery status',), ('orders',), ('ordersview',), ('staff',)]\n"
     ]
    }
   ],
   "source": [
    "cursor=connection.cursor()\n",
    "show_tables_query = \"SHOW tables;\" \n",
    "cursor.execute(show_tables_query)\n",
    "results=cursor.fetchall()\n",
    "print(results)"
   ]
  },
  {
   "cell_type": "code",
   "execution_count": 17,
   "metadata": {},
   "outputs": [
    {
     "name": "stdout",
     "output_type": "stream",
     "text": [
      "customer that has placed an order greater than $60:\n",
      " ('Full Name', 'PhoneNumber', 'TotalCost')\n",
      "('Aditya Flores', '278-847-5214', Decimal('90.00'))\n",
      "('Harri Rowe', '457-850-5720', Decimal('75.00'))\n",
      "('Nina Glover', '123-785-5210', Decimal('100.00'))\n",
      "('Minnie Stark', '423-875-1452', Decimal('120.00'))\n",
      "('Inaaya David', '417-512-1247', Decimal('240.00'))\n"
     ]
    }
   ],
   "source": [
    "#full name and contact details for every customer that has placed an order greater than $60 for a promotional campaign. \n",
    "\n",
    "cost_greater_than_60 = \"\"\"\n",
    "SELECT CONCAT(FirstName,' ',LastName) AS 'Full Name',PhoneNumber, TotalCost\n",
    "FROM customers\n",
    "JOIN orders ON customers.CustomerID = orders.CustomerID\n",
    "WHERE TotalCost > 60;\n",
    "\"\"\"\n",
    "cursor.execute(cost_greater_than_60)\n",
    "res=cursor.fetchall()\n",
    "print('customer that has placed an order greater than $60:\\n',cursor.column_names)\n",
    "for i in res:\n",
    "    print(i)"
   ]
  },
  {
   "cell_type": "code",
   "execution_count": 4,
   "metadata": {},
   "outputs": [
    {
     "name": "stdout",
     "output_type": "stream",
     "text": [
      "MaximumOrderedQuantity : 8\n"
     ]
    }
   ],
   "source": [
    "#Create a procedure using Python to react to changes in the data.\n",
    "\n",
    "cursor.callproc('GetMaxQuantity')\n",
    "dataset = next(cursor.stored_results()).fetchall()\n",
    "\n",
    "results=cursor.stored_results()\n",
    "for column_id in results:\n",
    "    for i in range(len(column_id.description)):\n",
    "        print(column_id.description[i][0], ':' ,dataset[0][i])"
   ]
  }
 ],
 "metadata": {
  "kernelspec": {
   "display_name": "Python 3",
   "language": "python",
   "name": "python3"
  },
  "language_info": {
   "codemirror_mode": {
    "name": "ipython",
    "version": 3
   },
   "file_extension": ".py",
   "mimetype": "text/x-python",
   "name": "python",
   "nbconvert_exporter": "python",
   "pygments_lexer": "ipython3",
   "version": "3.12.0"
  }
 },
 "nbformat": 4,
 "nbformat_minor": 2
}
